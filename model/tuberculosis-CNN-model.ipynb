{
 "cells": [
  {
   "cell_type": "code",
   "execution_count": 2,
   "id": "8d5aa956",
   "metadata": {},
   "outputs": [
    {
     "name": "stdout",
     "output_type": "stream",
     "text": [
      "Normal directory exists? True\n",
      "Tuberculosis directory exists? True\n"
     ]
    }
   ],
   "source": [
    "import os\n",
    "import cv2\n",
    "import numpy as np\n",
    "from imblearn.over_sampling import SMOTE\n",
    "from sklearn.model_selection import train_test_split\n",
    "from sklearn.metrics import classification_report, confusion_matrix\n",
    "\n",
    "import torch\n",
    "import torch.nn as nn\n",
    "import torch.optim as optim\n",
    "from torch.utils.data import Dataset, DataLoader\n",
    "\n",
    "db_dir = os.path.join('.', 'tuberculosis-dataset')  # Relative path to dataset folder\n",
    "normaldir = os.path.join(db_dir, 'Normal')\n",
    "tbdir     = os.path.join(db_dir, 'Tuberculosis')\n",
    "\n",
    "print(\"Normal directory exists?\", os.path.exists(normaldir))\n",
    "print(\"Tuberculosis directory exists?\", os.path.exists(tbdir))\n"
   ]
  },
  {
   "cell_type": "code",
   "execution_count": 3,
   "id": "d1eda13c",
   "metadata": {},
   "outputs": [
    {
     "name": "stdout",
     "output_type": "stream",
     "text": [
      "Images shape: (4200, 256, 256)\n",
      "Labels shape: (4200,)\n"
     ]
    }
   ],
   "source": [
    "import cv2\n",
    "\n",
    "images = []\n",
    "labels = []\n",
    "image_size = 256\n",
    "\n",
    "# Load Normal images (label = 0)\n",
    "for filename in os.listdir(normaldir):\n",
    "    filepath = os.path.join(normaldir, filename)\n",
    "    img = cv2.imread(filepath, cv2.IMREAD_GRAYSCALE)\n",
    "    if img is not None:\n",
    "        img = cv2.resize(img, (image_size, image_size))\n",
    "        images.append(img)\n",
    "        labels.append(0)\n",
    "\n",
    "# Load Tuberculosis images (label = 1)\n",
    "for filename in os.listdir(tbdir):\n",
    "    filepath = os.path.join(tbdir, filename)\n",
    "    img = cv2.imread(filepath, cv2.IMREAD_GRAYSCALE)\n",
    "    if img is not None:\n",
    "        img = cv2.resize(img, (image_size, image_size))\n",
    "        images.append(img)\n",
    "        labels.append(1)\n",
    "\n",
    "images = np.array(images)\n",
    "labels = np.array(labels)\n",
    "print(\"Images shape:\", images.shape)\n",
    "print(\"Labels shape:\", labels.shape)\n"
   ]
  },
  {
   "cell_type": "code",
   "execution_count": 4,
   "id": "8e927e98",
   "metadata": {},
   "outputs": [
    {
     "name": "stdout",
     "output_type": "stream",
     "text": [
      "X_train shape: (2940, 256, 256)\n",
      "X_test shape: (1260, 256, 256)\n"
     ]
    }
   ],
   "source": [
    "X_train, X_test, y_train, y_test = train_test_split(\n",
    "    images, labels, test_size=0.3, random_state=42\n",
    ")\n",
    "\n",
    "# Convert from [0,255] -> [0,1]\n",
    "X_train = X_train.astype('float32') / 255.0\n",
    "X_test  = X_test.astype('float32')  / 255.0\n",
    "\n",
    "print(\"X_train shape:\", X_train.shape)\n",
    "print(\"X_test shape:\",  X_test.shape)\n"
   ]
  },
  {
   "cell_type": "code",
   "execution_count": 5,
   "id": "819d4c86",
   "metadata": {},
   "outputs": [
    {
     "name": "stdout",
     "output_type": "stream",
     "text": [
      "After SMOTE, X_train_res shape: (4914, 256, 256, 1)\n",
      "After SMOTE, y_train_res shape: (4914,)\n",
      "Label distribution: {np.int64(0): np.int64(2457), np.int64(1): np.int64(2457)}\n"
     ]
    }
   ],
   "source": [
    "smote = SMOTE(random_state=42)\n",
    "\n",
    "# Flatten images for SMOTE\n",
    "n_train    = X_train.shape[0]\n",
    "X_train_2d = X_train.reshape(n_train, -1)  # shape: (n_samples, 256*256)\n",
    "\n",
    "X_train_res, y_train_res = smote.fit_resample(X_train_2d, y_train)\n",
    "\n",
    "# Reshape back to (H,W,1)\n",
    "X_train_res = X_train_res.reshape(-1, image_size, image_size, 1)\n",
    "\n",
    "print(\"After SMOTE, X_train_res shape:\", X_train_res.shape)\n",
    "print(\"After SMOTE, y_train_res shape:\", y_train_res.shape)\n",
    "unique_vals, counts = np.unique(y_train_res, return_counts=True)\n",
    "print(\"Label distribution:\", dict(zip(unique_vals, counts)))\n"
   ]
  },
  {
   "cell_type": "code",
   "execution_count": 6,
   "id": "1c1b657c",
   "metadata": {},
   "outputs": [],
   "source": [
    "class TBChestXRayDataset(Dataset):\n",
    "    def __init__(self, images, labels):\n",
    "        \"\"\"\n",
    "        images: NumPy array of shape (N, H, W, 1)\n",
    "        labels: NumPy array of shape (N,)\n",
    "        \"\"\"\n",
    "        self.images = images\n",
    "        self.labels = labels\n",
    "\n",
    "    def __len__(self):\n",
    "        return len(self.images)\n",
    "\n",
    "    def __getitem__(self, index):\n",
    "        # Convert (H,W,1) -> (1,H,W) for PyTorch (channels first)\n",
    "        image = self.images[index].transpose(2,0,1)  # shape: (1,256,256)\n",
    "        label = self.labels[index].astype('float32')\n",
    "        \n",
    "        # Turn into PyTorch tensors\n",
    "        image_tensor = torch.tensor(image, dtype=torch.float32)\n",
    "        label_tensor = torch.tensor(label, dtype=torch.float32)\n",
    "        \n",
    "        return image_tensor, label_tensor\n",
    "\n",
    "# Create datasets\n",
    "train_dataset = TBChestXRayDataset(X_train_res, y_train_res)\n",
    "# For test set, reshape to (N,H,W,1) as well\n",
    "X_test_4d = X_test.reshape(-1, image_size, image_size, 1)\n",
    "test_dataset  = TBChestXRayDataset(X_test_4d, y_test)\n",
    "\n",
    "# Create data loaders\n",
    "train_loader = DataLoader(train_dataset, batch_size=16, shuffle=True)\n",
    "test_loader  = DataLoader(test_dataset,  batch_size=32, shuffle=False)\n"
   ]
  },
  {
   "cell_type": "code",
   "execution_count": 7,
   "id": "d78207cf",
   "metadata": {},
   "outputs": [
    {
     "name": "stdout",
     "output_type": "stream",
     "text": [
      "SimpleCNN(\n",
      "  (features): Sequential(\n",
      "    (0): Conv2d(1, 16, kernel_size=(3, 3), stride=(1, 1))\n",
      "    (1): ReLU()\n",
      "    (2): MaxPool2d(kernel_size=2, stride=2, padding=0, dilation=1, ceil_mode=False)\n",
      "    (3): Conv2d(16, 32, kernel_size=(3, 3), stride=(1, 1))\n",
      "    (4): ReLU()\n",
      "    (5): MaxPool2d(kernel_size=2, stride=2, padding=0, dilation=1, ceil_mode=False)\n",
      "    (6): Conv2d(32, 64, kernel_size=(3, 3), stride=(1, 1))\n",
      "    (7): ReLU()\n",
      "    (8): MaxPool2d(kernel_size=2, stride=2, padding=0, dilation=1, ceil_mode=False)\n",
      "  )\n",
      "  (classifier): Sequential(\n",
      "    (0): Flatten(start_dim=1, end_dim=-1)\n",
      "    (1): Linear(in_features=57600, out_features=64, bias=True)\n",
      "    (2): ReLU()\n",
      "    (3): Dropout(p=0.5, inplace=False)\n",
      "    (4): Linear(in_features=64, out_features=1, bias=True)\n",
      "    (5): Sigmoid()\n",
      "  )\n",
      ")\n"
     ]
    }
   ],
   "source": [
    "class SimpleCNN(nn.Module):\n",
    "    def __init__(self):\n",
    "        super(SimpleCNN, self).__init__()\n",
    "        \n",
    "        self.features = nn.Sequential(\n",
    "            nn.Conv2d(1, 16, kernel_size=3, stride=1, padding=0),\n",
    "            nn.ReLU(),\n",
    "            nn.MaxPool2d(kernel_size=2),\n",
    "            \n",
    "            nn.Conv2d(16, 32, kernel_size=3, stride=1, padding=0),\n",
    "            nn.ReLU(),\n",
    "            nn.MaxPool2d(kernel_size=2),\n",
    "            \n",
    "            nn.Conv2d(32, 64, kernel_size=3, stride=1, padding=0),\n",
    "            nn.ReLU(),\n",
    "            nn.MaxPool2d(kernel_size=2)\n",
    "        )\n",
    "        \n",
    "        # We need to figure out the final dimension after these conv/pool layers\n",
    "        # 256x256 -> after 3 conv+pool (each pool halves dimension):\n",
    "        #   conv => dimension - 2\n",
    "        #   pool => dimension / 2\n",
    "        # Let's let PyTorch handle the shape in forward() or do a quick pass.\n",
    "        \n",
    "        self.classifier = nn.Sequential(\n",
    "            nn.Flatten(),\n",
    "            # 64 channels * 30 * 30 = 57600 if dimension goes exactly as (30,30)\n",
    "            nn.Linear(64 * 30 * 30, 64),\n",
    "            nn.ReLU(),\n",
    "            nn.Dropout(0.5),\n",
    "            nn.Linear(64, 1),\n",
    "            nn.Sigmoid()\n",
    "        )\n",
    "\n",
    "    def forward(self, x):\n",
    "        x = self.features(x)\n",
    "        x = self.classifier(x)\n",
    "        return x\n",
    "\n",
    "device = torch.device(\"cuda\" if torch.cuda.is_available() else \"cpu\")\n",
    "model = SimpleCNN().to(device)\n",
    "\n",
    "print(model)\n"
   ]
  },
  {
   "cell_type": "code",
   "execution_count": 8,
   "id": "76b50595",
   "metadata": {},
   "outputs": [
    {
     "name": "stderr",
     "output_type": "stream",
     "text": [
      "f:\\Conda\\envs\\py310\\lib\\site-packages\\torch\\optim\\lr_scheduler.py:62: UserWarning: The verbose parameter is deprecated. Please use get_last_lr() to access the learning rate.\n",
      "  warnings.warn(\n"
     ]
    }
   ],
   "source": [
    "criterion = nn.BCELoss()\n",
    "optimizer = optim.Adam(model.parameters(), lr=1e-3)\n",
    "\n",
    "# We want to reduce LR on plateau of \"accuracy\" which is a \"maximize\" metric\n",
    "scheduler = optim.lr_scheduler.ReduceLROnPlateau(\n",
    "    optimizer, mode='max', factor=0.1, patience=1, min_lr=1e-5, verbose=True\n",
    ")\n"
   ]
  },
  {
   "cell_type": "code",
   "execution_count": 9,
   "id": "80a264b3",
   "metadata": {},
   "outputs": [
    {
     "name": "stdout",
     "output_type": "stream",
     "text": [
      "[Epoch 1/10] Train Loss: 0.2405, Train Acc: 0.8948\n",
      "Model improved at epoch 1, saved to tb_chest_xray_cnn_best.pt\n",
      "[Epoch 2/10] Train Loss: 0.1277, Train Acc: 0.9512\n",
      "Model improved at epoch 2, saved to tb_chest_xray_cnn_best.pt\n",
      "[Epoch 3/10] Train Loss: 0.0761, Train Acc: 0.9733\n",
      "Model improved at epoch 3, saved to tb_chest_xray_cnn_best.pt\n",
      "[Epoch 4/10] Train Loss: 0.0491, Train Acc: 0.9827\n",
      "Model improved at epoch 4, saved to tb_chest_xray_cnn_best.pt\n",
      "[Epoch 5/10] Train Loss: 0.0788, Train Acc: 0.9723\n",
      "[Epoch 6/10] Train Loss: 0.0288, Train Acc: 0.9886\n",
      "Model improved at epoch 6, saved to tb_chest_xray_cnn_best.pt\n",
      "[Epoch 7/10] Train Loss: 0.0241, Train Acc: 0.9919\n",
      "Model improved at epoch 7, saved to tb_chest_xray_cnn_best.pt\n",
      "[Epoch 8/10] Train Loss: 0.0291, Train Acc: 0.9896\n",
      "[Epoch 9/10] Train Loss: 0.0346, Train Acc: 0.9882\n",
      "[Epoch 10/10] Train Loss: 0.0202, Train Acc: 0.9945\n",
      "Model improved at epoch 10, saved to tb_chest_xray_cnn_best.pt\n"
     ]
    }
   ],
   "source": [
    "def train_one_epoch(model, loader, optimizer, criterion, device):\n",
    "    model.train()\n",
    "    total_loss = 0.0\n",
    "    correct = 0\n",
    "    total = 0\n",
    "    \n",
    "    for imgs, labels in loader:\n",
    "        imgs = imgs.to(device)\n",
    "        labels = labels.to(device).view(-1, 1)  # (batch_size,1)\n",
    "        \n",
    "        optimizer.zero_grad()\n",
    "        outputs = model(imgs)\n",
    "        loss = criterion(outputs, labels)\n",
    "        loss.backward()\n",
    "        optimizer.step()\n",
    "        \n",
    "        total_loss += loss.item() * imgs.size(0)\n",
    "        \n",
    "        preds = (outputs >= 0.5).float()\n",
    "        correct += (preds == labels).sum().item()\n",
    "        total += labels.size(0)\n",
    "    \n",
    "    epoch_loss = total_loss / total\n",
    "    epoch_acc = correct / total\n",
    "    return epoch_loss, epoch_acc\n",
    "\n",
    "\n",
    "def evaluate(model, loader, criterion, device):\n",
    "    model.eval()\n",
    "    total_loss = 0.0\n",
    "    correct = 0\n",
    "    total = 0\n",
    "    \n",
    "    with torch.no_grad():\n",
    "        for imgs, labels in loader:\n",
    "            imgs = imgs.to(device)\n",
    "            labels = labels.to(device).view(-1, 1)\n",
    "            \n",
    "            outputs = model(imgs)\n",
    "            loss = criterion(outputs, labels)\n",
    "            \n",
    "            total_loss += loss.item() * imgs.size(0)\n",
    "            \n",
    "            preds = (outputs >= 0.5).float()\n",
    "            correct += (preds == labels).sum().item()\n",
    "            total += labels.size(0)\n",
    "    \n",
    "    epoch_loss = total_loss / total\n",
    "    epoch_acc = correct / total\n",
    "    return epoch_loss, epoch_acc\n",
    "\n",
    "num_epochs = 10\n",
    "best_acc = 0.0\n",
    "save_path = \"tb_chest_xray_cnn_best.pt\"\n",
    "\n",
    "for epoch in range(num_epochs):\n",
    "    train_loss, train_acc = train_one_epoch(model, train_loader, optimizer, criterion, device)\n",
    "    \n",
    "    # In many workflows, you'd do a separate validation set. Here, we'll \n",
    "    # just use training accuracy for the scheduler. You can adapt if you have val_loader.\n",
    "    scheduler.step(train_acc)\n",
    "    \n",
    "    print(f\"[Epoch {epoch+1}/{num_epochs}] Train Loss: {train_loss:.4f}, Train Acc: {train_acc:.4f}\")\n",
    "    \n",
    "    # Save the best model based on training accuracy\n",
    "    if train_acc > best_acc:\n",
    "        best_acc = train_acc\n",
    "        torch.save(model.state_dict(), save_path)\n",
    "        print(f\"Model improved at epoch {epoch+1}, saved to {save_path}\")\n"
   ]
  },
  {
   "cell_type": "code",
   "execution_count": 10,
   "id": "6a8fe3c0",
   "metadata": {},
   "outputs": [
    {
     "name": "stderr",
     "output_type": "stream",
     "text": [
      "C:\\Users\\dell\\AppData\\Local\\Temp\\ipykernel_13340\\2882599951.py:2: FutureWarning: You are using `torch.load` with `weights_only=False` (the current default value), which uses the default pickle module implicitly. It is possible to construct malicious pickle data which will execute arbitrary code during unpickling (See https://github.com/pytorch/pytorch/blob/main/SECURITY.md#untrusted-models for more details). In a future release, the default value for `weights_only` will be flipped to `True`. This limits the functions that could be executed during unpickling. Arbitrary objects will no longer be allowed to be loaded via this mode unless they are explicitly allowlisted by the user via `torch.serialization.add_safe_globals`. We recommend you start setting `weights_only=True` for any use case where you don't have full control of the loaded file. Please open an issue on GitHub for any issues related to this experimental feature.\n",
      "  model.load_state_dict(torch.load(save_path))\n"
     ]
    },
    {
     "name": "stdout",
     "output_type": "stream",
     "text": [
      "CLASSIFICATION REPORT:\n",
      "              precision    recall  f1-score   support\n",
      "\n",
      "         0.0     0.9923    0.9827    0.9875      1043\n",
      "         1.0     0.9207    0.9631    0.9414       217\n",
      "\n",
      "    accuracy                         0.9794      1260\n",
      "   macro avg     0.9565    0.9729    0.9645      1260\n",
      "weighted avg     0.9799    0.9794    0.9795      1260\n",
      "\n",
      "CONFUSION MATRIX:\n",
      "[[1025   18]\n",
      " [   8  209]]\n"
     ]
    }
   ],
   "source": [
    "# Load best model weights (if desired)\n",
    "model.load_state_dict(torch.load(save_path))\n",
    "model.eval()\n",
    "\n",
    "all_preds = []\n",
    "all_targets = []\n",
    "\n",
    "with torch.no_grad():\n",
    "    for imgs, labels in test_loader:\n",
    "        imgs = imgs.to(device)\n",
    "        labels = labels.to(device)\n",
    "        \n",
    "        outputs = model(imgs)\n",
    "        preds = (outputs >= 0.5).float()\n",
    "        \n",
    "        all_preds.extend(preds.cpu().numpy().flatten())\n",
    "        all_targets.extend(labels.cpu().numpy().flatten())\n",
    "\n",
    "print(\"CLASSIFICATION REPORT:\")\n",
    "print(classification_report(all_targets, all_preds, digits=4))\n",
    "\n",
    "print(\"CONFUSION MATRIX:\")\n",
    "print(confusion_matrix(all_targets, all_preds))\n"
   ]
  }
 ],
 "metadata": {
  "kaggle": {
   "accelerator": "none",
   "dataSources": [
    {
     "datasetId": 891819,
     "sourceId": 2332307,
     "sourceType": "datasetVersion"
    }
   ],
   "dockerImageVersionId": 30746,
   "isGpuEnabled": false,
   "isInternetEnabled": true,
   "language": "python",
   "sourceType": "notebook"
  },
  "kernelspec": {
   "display_name": "py310",
   "language": "python",
   "name": "python3"
  },
  "language_info": {
   "codemirror_mode": {
    "name": "ipython",
    "version": 3
   },
   "file_extension": ".py",
   "mimetype": "text/x-python",
   "name": "python",
   "nbconvert_exporter": "python",
   "pygments_lexer": "ipython3",
   "version": "3.10.16"
  },
  "papermill": {
   "default_parameters": {},
   "duration": 1390.689335,
   "end_time": "2024-07-14T22:57:20.495719",
   "environment_variables": {},
   "exception": null,
   "input_path": "__notebook__.ipynb",
   "output_path": "__notebook__.ipynb",
   "parameters": {},
   "start_time": "2024-07-14T22:34:09.806384",
   "version": "2.5.0"
  }
 },
 "nbformat": 4,
 "nbformat_minor": 5
}
