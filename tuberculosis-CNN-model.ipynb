{
 "cells": [
  {
   "cell_type": "code",
   "execution_count": 2,
   "id": "8d5aa956",
   "metadata": {},
   "outputs": [
    {
     "name": "stdout",
     "output_type": "stream",
     "text": [
      "Normal directory exists? True\n",
      "Tuberculosis directory exists? True\n"
     ]
    }
   ],
   "source": [
    "import os\n",
    "import cv2\n",
    "import numpy as np\n",
    "from imblearn.over_sampling import SMOTE\n",
    "from sklearn.model_selection import train_test_split\n",
    "from sklearn.metrics import classification_report, confusion_matrix\n",
    "\n",
    "import torch\n",
    "import torch.nn as nn\n",
    "import torch.optim as optim\n",
    "from torch.utils.data import Dataset, DataLoader\n",
    "\n",
    "db_dir = os.path.join('.', 'tuberculosis-dataset')  # Relative path to dataset folder\n",
    "normaldir = os.path.join(db_dir, 'Normal')\n",
    "tbdir     = os.path.join(db_dir, 'Tuberculosis')\n",
    "\n",
    "print(\"Normal directory exists?\", os.path.exists(normaldir))\n",
    "print(\"Tuberculosis directory exists?\", os.path.exists(tbdir))\n"
   ]
  },
  {
   "cell_type": "code",
   "execution_count": null,
   "id": "d1eda13c",
   "metadata": {},
   "outputs": [],
   "source": [
    "import cv2\n",
    "\n",
    "images = []\n",
    "labels = []\n",
    "image_size = 256\n",
    "\n",
    "# Load Normal images (label = 0)\n",
    "for filename in os.listdir(normaldir):\n",
    "    filepath = os.path.join(normaldir, filename)\n",
    "    img = cv2.imread(filepath, cv2.IMREAD_GRAYSCALE)\n",
    "    if img is not None:\n",
    "        img = cv2.resize(img, (image_size, image_size))\n",
    "        images.append(img)\n",
    "        labels.append(0)\n",
    "\n",
    "# Load Tuberculosis images (label = 1)\n",
    "for filename in os.listdir(tbdir):\n",
    "    filepath = os.path.join(tbdir, filename)\n",
    "    img = cv2.imread(filepath, cv2.IMREAD_GRAYSCALE)\n",
    "    if img is not None:\n",
    "        img = cv2.resize(img, (image_size, image_size))\n",
    "        images.append(img)\n",
    "        labels.append(1)\n",
    "\n",
    "images = np.array(images)\n",
    "labels = np.array(labels)\n",
    "print(\"Images shape:\", images.shape)\n",
    "print(\"Labels shape:\", labels.shape)\n"
   ]
  }
 ],
 "metadata": {
  "kaggle": {
   "accelerator": "none",
   "dataSources": [
    {
     "datasetId": 891819,
     "sourceId": 2332307,
     "sourceType": "datasetVersion"
    }
   ],
   "dockerImageVersionId": 30746,
   "isGpuEnabled": false,
   "isInternetEnabled": true,
   "language": "python",
   "sourceType": "notebook"
  },
  "kernelspec": {
   "display_name": "py310",
   "language": "python",
   "name": "python3"
  },
  "language_info": {
   "codemirror_mode": {
    "name": "ipython",
    "version": 3
   },
   "file_extension": ".py",
   "mimetype": "text/x-python",
   "name": "python",
   "nbconvert_exporter": "python",
   "pygments_lexer": "ipython3",
   "version": "3.10.16"
  },
  "papermill": {
   "default_parameters": {},
   "duration": 1390.689335,
   "end_time": "2024-07-14T22:57:20.495719",
   "environment_variables": {},
   "exception": null,
   "input_path": "__notebook__.ipynb",
   "output_path": "__notebook__.ipynb",
   "parameters": {},
   "start_time": "2024-07-14T22:34:09.806384",
   "version": "2.5.0"
  }
 },
 "nbformat": 4,
 "nbformat_minor": 5
}
