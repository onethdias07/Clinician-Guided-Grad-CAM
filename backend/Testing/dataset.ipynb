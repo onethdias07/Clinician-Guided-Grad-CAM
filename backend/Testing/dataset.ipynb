{
 "cells": [
  {
   "cell_type": "code",
   "execution_count": null,
   "id": "82a5a39b",
   "metadata": {},
   "outputs": [],
   "source": [
    "import kagglehub\n",
    "import os\n",
    "\n",
    "# Create test_dataset directory if it doesn't exist\n",
    "test_dataset_path = \"test_dataset\"\n",
    "os.makedirs(test_dataset_path, exist_ok=True)\n",
    "\n",
    "# Download latest version to the specified directory\n",
    "path = kagglehub.dataset_download(\n",
    "    \"iamtapendu/chest-x-ray-lungs-segmentation\",\n",
    "    path=test_dataset_path\n",
    ")\n",
    "\n",
    "print(\"Path to dataset files:\", path)"
   ]
  }
 ],
 "metadata": {
  "language_info": {
   "name": "python"
  }
 },
 "nbformat": 4,
 "nbformat_minor": 5
}
